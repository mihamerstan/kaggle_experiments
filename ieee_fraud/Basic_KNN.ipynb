{
 "cells": [
  {
   "cell_type": "code",
   "execution_count": 71,
   "metadata": {},
   "outputs": [],
   "source": [
    "import numpy as np\n",
    "import pandas as pd\n",
    "from sklearn.neighbors import NearestNeighbors\n",
    "from sklearn import preprocessing"
   ]
  },
  {
   "cell_type": "code",
   "execution_count": 98,
   "metadata": {},
   "outputs": [],
   "source": [
    "#Load the data\n",
    "train = pd.read_pickle('X_train_features.pkl')\n",
    "test = pd.read_pickle('X_test_features.pkl')\n",
    "\n",
    "#Create list of columns that have >25 unique values and are dtype=float \n",
    "def find_float_columns(df):\n",
    "    float_columns = []\n",
    "    for col in df:\n",
    "        if len(df[col].unique()) > 25 and df[col].dtype in ['float16','float32','float64']:# and train[col].dtype == 'object':\n",
    "            float_columns.append(col)\n",
    "    return float_columns\n",
    "\n",
    "float_cols = find_float_columns(train)\n"
   ]
  },
  {
   "cell_type": "code",
   "execution_count": 99,
   "metadata": {},
   "outputs": [],
   "source": [
    "# Replace N/As\n",
    "def fillna_and_inf_df(float_columns,df):\n",
    "    for col in float_columns:\n",
    "        df[col] = df[col].fillna(value=-99)\n",
    "        if np.isfinite(df[col]).all()== False:\n",
    "            df[col] = df[col].replace([np.inf], 10000)\n",
    "    return df\n",
    "\n",
    "train = fillna_and_inf_df(float_cols,train)\n",
    "test = fillna_and_inf_df(float_cols,test)\n",
    "\n",
    "# Scale to mean = 0 and SD = 1\n",
    "train_numerics = preprocessing.scale(train[float_columns])\n",
    "test_numerics = preprocessing.scale(test[float_columns])"
   ]
  },
  {
   "cell_type": "code",
   "execution_count": null,
   "metadata": {},
   "outputs": [],
   "source": []
  },
  {
   "cell_type": "code",
   "execution_count": 86,
   "metadata": {},
   "outputs": [],
   "source": []
  },
  {
   "cell_type": "code",
   "execution_count": 93,
   "metadata": {},
   "outputs": [
    {
     "data": {
      "text/plain": [
       "NearestNeighbors(algorithm='auto', leaf_size=30, metric='minkowski',\n",
       "                 metric_params=None, n_jobs=None, n_neighbors=3, p=2,\n",
       "                 radius=1.0)"
      ]
     },
     "execution_count": 93,
     "metadata": {},
     "output_type": "execute_result"
    }
   ],
   "source": [
    "neigh = NearestNeighbors(n_neighbors = 3)\n",
    "neigh.fit(scaled_numeric_df)"
   ]
  },
  {
   "cell_type": "code",
   "execution_count": null,
   "metadata": {},
   "outputs": [],
   "source": [
    "neigh.kneighbors()"
   ]
  },
  {
   "cell_type": "code",
   "execution_count": 65,
   "metadata": {},
   "outputs": [],
   "source": []
  },
  {
   "cell_type": "code",
   "execution_count": null,
   "metadata": {},
   "outputs": [],
   "source": []
  },
  {
   "cell_type": "code",
   "execution_count": null,
   "metadata": {},
   "outputs": [],
   "source": []
  },
  {
   "cell_type": "code",
   "execution_count": null,
   "metadata": {},
   "outputs": [],
   "source": []
  }
 ],
 "metadata": {
  "kernelspec": {
   "display_name": "Python 3",
   "language": "python",
   "name": "python3"
  },
  "language_info": {
   "codemirror_mode": {
    "name": "ipython",
    "version": 3
   },
   "file_extension": ".py",
   "mimetype": "text/x-python",
   "name": "python",
   "nbconvert_exporter": "python",
   "pygments_lexer": "ipython3",
   "version": "3.7.3"
  }
 },
 "nbformat": 4,
 "nbformat_minor": 2
}
