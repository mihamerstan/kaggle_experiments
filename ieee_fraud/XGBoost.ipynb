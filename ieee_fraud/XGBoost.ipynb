{
 "cells": [
  {
   "cell_type": "code",
   "execution_count": null,
   "metadata": {},
   "outputs": [],
   "source": [
    "import numpy as np\n",
    "import pandas as pd\n",
    "from scipy import interp\n",
    "from sklearn import preprocessing\n",
    "from sklearn.model_selection import StratifiedKFold, cross_val_score\n",
    "from sklearn.metrics import roc_curve, roc_auc_score, auc, accuracy_score\n",
    "import matplotlib.pyplot as plt\n",
    "import xgboost as xgb\n",
    "import pickle"
   ]
  },
  {
   "cell_type": "code",
   "execution_count": null,
   "metadata": {},
   "outputs": [],
   "source": [
    "# Load data from pickle files\n",
    "train_df = pd.read_pickle('../../data/train.pkl')\n",
    "test_df = pd.read_pickle('../../data/test.pkl')\n",
    "\n",
    "#pull out y values\n",
    "y_train = train_df['isFraud'].copy()\n",
    "X_train = train_df.drop(columns=['isFraud'])\n"
   ]
  },
  {
   "cell_type": "code",
   "execution_count": null,
   "metadata": {},
   "outputs": [],
   "source": [
    "# Label Encoding\n",
    "for f in X_train.columns:\n",
    "    if X_train[f].dtype=='object' or test_df[f].dtype=='object' or hasattr(X_train[f], 'cat'): \n",
    "        lbl = preprocessing.LabelEncoder()\n",
    "        lbl.fit(list(X_train[f].values) + list(test_df[f].values))\n",
    "        X_train[f] = lbl.transform(list(X_train[f].values))\n",
    "        test_df[f] = lbl.transform(list(test_df[f].values))"
   ]
  },
  {
   "cell_type": "code",
   "execution_count": null,
   "metadata": {},
   "outputs": [],
   "source": [
    "#XGBoost model\n",
    "clf = xgb.XGBClassifier(\n",
    "    n_estimators=500,\n",
    "    max_depth=9,\n",
    "    learning_rate=0.05,\n",
    "    subsample=0.9,\n",
    "    colsample_bytree=0.9,\n",
    "    random_state=2019,\n",
    "    tree_method='gpu_hist'  # THE MAGICAL PARAMETER\n",
    ")\n",
    "'''clf = xgb.XGBClassifier(\n",
    "    n_estimators=2000,\n",
    "    max_depth=5,\n",
    "    learning_rate=0.005,\n",
    "    subsample=0.8,\n",
    "    colsample_bytree=0.9,\n",
    "    random_state=2019,\n",
    "    gamma = 1,\n",
    "    tree_method='gpu_hist',\n",
    "    eval_method = 'auc',\n",
    "    scale_pos_weight = 1/np.mean(y_train)\n",
    ")\n",
    "'''\n",
    "cv = StratifiedKFold(n_splits=5,shuffle=True)\n",
    "#%time results = cross_val_score(clf, X_train, y_train, cv=cv)"
   ]
  },
  {
   "cell_type": "code",
   "execution_count": null,
   "metadata": {},
   "outputs": [],
   "source": [
    "%%time\n",
    "tprs = [] #roc curve translated to the 100 point 0-1 linspace\n",
    "aucs = []\n",
    "tprs_train = [] #roc curve translated to the 100 point 0-1 linspace\n",
    "aucs_train = []\n",
    "test_accuracy_scores = []\n",
    "train_accuracy_scores = []\n",
    "mean_fpr = np.linspace(0, 1, 1000)\n",
    "\n",
    "# roccin function generates the data for the ROC curve.\n",
    "def roccin(y_train,y_pred,mean_fpr,tprs,aucs):\n",
    "    fpr, tpr, thresholds = roc_curve(y_train, y_pred) \n",
    "    tprs.append(interp(mean_fpr, fpr, tpr)) #Interpolates tpr at the mean_fpr (for ROC curve)\n",
    "    tprs[-1][0] = 0.0\n",
    "    roc_auc = auc(fpr, tpr)\n",
    "    aucs.append(roc_auc)\n",
    "    return fpr, tpr, tprs, roc_auc, aucs\n",
    "\n",
    "i = 0\n",
    "for train, test in cv.split(X_train, y_train):\n",
    "    y_pred = clf.fit(X_train.iloc[train], y_train.iloc[train]).predict_proba(X_train.iloc[test])[:,1]\n",
    "    y_pred_train = clf.predict_proba(X_train.iloc[train])[:,1]\n",
    "    y_pred_binary = clf.predict(X_train.iloc[test])\n",
    "    y_pred_train_binary = clf.predict(X_train.iloc[train])\n",
    "\n",
    "\n",
    "    # Test AUC curve \n",
    "    fpr, tpr, tprs, roc_auc, aucs = roccin(y_train.iloc[test],y_pred,mean_fpr,tprs,aucs) \n",
    "    test_accuracy_scores.append(accuracy_score(y_train.iloc[test],y_pred_binary))\n",
    "    \n",
    "    #Train AUC curve\n",
    "    fpr_train, tpr_train, tprs_train, roc_auc_train, aucs_train = roccin(y_train.iloc[train],\n",
    "                                                                         y_pred_train,mean_fpr,\n",
    "                                                                         tprs_train,aucs_train)    \n",
    "    train_accuracy_scores.append(accuracy_score(y_train.iloc[train],y_pred_train_binary))\n",
    "\n",
    "    #Print the ROC plot\n",
    "    print(\"Fold {} complete.\".format(i))    \n",
    "    plt.plot(fpr, tpr, lw=1, alpha=0.3,\n",
    "             label='ROC fold %d (AUC = %0.2f)' % (i, roc_auc))\n",
    "\n",
    "    i += 1\n",
    "\n",
    "plt.plot([0, 1], [0, 1], linestyle='--', lw=2, color='r',\n",
    "         label='Chance', alpha=.8)\n",
    "\n",
    "mean_tpr = np.mean(tprs, axis=0)\n",
    "mean_tpr[-1] = 1.0\n",
    "mean_auc = auc(mean_fpr, mean_tpr)\n",
    "std_auc = np.std(aucs)\n",
    "plt.plot(mean_fpr, mean_tpr, color='b',\n",
    "         label=r'Mean ROC (AUC = %0.2f $\\pm$ %0.2f)' % (mean_auc, std_auc),\n",
    "         lw=2, alpha=.8)\n",
    "\n",
    "std_tpr = np.std(tprs, axis=0)\n",
    "tprs_upper = np.minimum(mean_tpr + std_tpr, 1)\n",
    "tprs_lower = np.maximum(mean_tpr - std_tpr, 0)\n",
    "plt.fill_between(mean_fpr, tprs_lower, tprs_upper, color='grey', alpha=.2,\n",
    "                 label=r'$\\pm$ 1 std. dev.')\n",
    "\n",
    "plt.xlim([-0.05, 1.05])\n",
    "plt.ylim([-0.05, 1.05])\n",
    "plt.xlabel('False Positive Rate')\n",
    "plt.ylabel('True Positive Rate')\n",
    "plt.title('Receiver operating characteristic example')\n",
    "plt.legend(loc=\"lower right\")\n",
    "plt.show()"
   ]
  },
  {
   "cell_type": "code",
   "execution_count": null,
   "metadata": {},
   "outputs": [],
   "source": [
    "clf.fit(X_train, y_train)\n",
    "y_submit = clf.predict_proba(test_df)\n",
    "print(y_submit)"
   ]
  },
  {
   "cell_type": "code",
   "execution_count": null,
   "metadata": {},
   "outputs": [],
   "source": [
    "# Sample submission\n",
    "sample_submission = pd.read_csv('../../data/sample_submission.csv', index_col='TransactionID')\n",
    "sample_submission['isFraud'] = y_submit[:,1]\n",
    "sample_submission.to_csv('simple_xgboost_proba.csv')\n"
   ]
  },
  {
   "cell_type": "code",
   "execution_count": null,
   "metadata": {},
   "outputs": [],
   "source": [
    "'''# save the model to disk\n",
    "filename = '../../runs/xgb_base_08_06_19'\n",
    "pickle.dump(clf, open(filename+'.model', 'wb'))\n",
    "auc_file = filename + '.results'\n",
    "file2 = open(auc_file,'w')\n",
    "for line in [\"mean_auc_score: \"+str(mean_auc),\"\\nstd_auc_score: \"+str(std_auc)]:\n",
    "    file2.writelines(line)\n",
    "file2.close()'''"
   ]
  },
  {
   "cell_type": "code",
   "execution_count": null,
   "metadata": {},
   "outputs": [],
   "source": [
    "train_accuracy_scores"
   ]
  },
  {
   "cell_type": "code",
   "execution_count": null,
   "metadata": {},
   "outputs": [],
   "source": [
    "test_accuracy_scores"
   ]
  },
  {
   "cell_type": "code",
   "execution_count": null,
   "metadata": {},
   "outputs": [],
   "source": [
    "y_pred[:20]"
   ]
  },
  {
   "cell_type": "code",
   "execution_count": null,
   "metadata": {},
   "outputs": [],
   "source": [
    "np.mean(y_pred_binary)"
   ]
  },
  {
   "cell_type": "code",
   "execution_count": null,
   "metadata": {},
   "outputs": [],
   "source": [
    "np.mean(y_train)"
   ]
  },
  {
   "cell_type": "code",
   "execution_count": null,
   "metadata": {},
   "outputs": [],
   "source": []
  }
 ],
 "metadata": {
  "kernelspec": {
   "display_name": "Python 3",
   "language": "python",
   "name": "python3"
  },
  "language_info": {
   "codemirror_mode": {
    "name": "ipython",
    "version": 3
   },
   "file_extension": ".py",
   "mimetype": "text/x-python",
   "name": "python",
   "nbconvert_exporter": "python",
   "pygments_lexer": "ipython3",
   "version": "3.6.8"
  }
 },
 "nbformat": 4,
 "nbformat_minor": 2
}
